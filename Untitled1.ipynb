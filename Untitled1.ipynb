{
  "nbformat": 4,
  "nbformat_minor": 0,
  "metadata": {
    "colab": {
      "name": "Untitled1.ipynb",
      "provenance": [],
      "collapsed_sections": [],
      "authorship_tag": "ABX9TyMJP0NdDdhxOiJuvTET4Smm",
      "include_colab_link": true
    },
    "kernelspec": {
      "name": "python3",
      "display_name": "Python 3"
    }
  },
  "cells": [
    {
      "cell_type": "markdown",
      "metadata": {
        "id": "view-in-github",
        "colab_type": "text"
      },
      "source": [
        "<a href=\"https://colab.research.google.com/github/wassimbdiri/loan-prediction/blob/main/Untitled1.ipynb\" target=\"_parent\"><img src=\"https://colab.research.google.com/assets/colab-badge.svg\" alt=\"Open In Colab\"/></a>"
      ]
    },
    {
      "cell_type": "code",
      "metadata": {
        "colab": {
          "base_uri": "https://localhost:8080/",
          "height": 195
        },
        "id": "Qmd7gFB_Cj9q",
        "outputId": "82e1e984-0b17-49ba-a6fe-7cdea71c39e8"
      },
      "source": [
        "!pip install -U -q PyDrive\n",
        "import pandas as pd\n",
        "import matplotlib.pyplot as plt\n",
        "import numpy as np\n",
        "import seaborn as sns\n",
        "from pydrive.auth import GoogleAuth\n",
        "from pydrive.drive import GoogleDrive\n",
        "from google.colab import auth\n",
        "from oauth2client.client import GoogleCredentials\n",
        "from sklearn.model_selection import train_test_split,cross_val_score\n",
        "from sklearn.linear_model import LogisticRegression\n",
        "from sklearn.feature_selection import RFE\n",
        "from sklearn.model_selection import train_test_split, cross_val_score\n",
        "from sklearn.metrics import accuracy_score, classification_report, precision_score, recall_score \n",
        "from sklearn.metrics import confusion_matrix, precision_recall_curve, roc_curve, auc, log_loss\n",
        "auth.authenticate_user()\n",
        "gauth = GoogleAuth()\n",
        "gauth.credentials = GoogleCredentials.get_application_default()\n",
        "drive = GoogleDrive(gauth)\n",
        "downloaded = drive.CreateFile({'id':'1E36cSGIaAkRyhmCDsBEjK8Y6SxzEmQxc'}) \n",
        "downloaded.GetContentFile('train-new.csv')  \n",
        "data=pd.read_csv('train-new.csv')\n",
        "data.head()"
      ],
      "execution_count": null,
      "outputs": [
        {
          "output_type": "execute_result",
          "data": {
            "text/html": [
              "<div>\n",
              "<style scoped>\n",
              "    .dataframe tbody tr th:only-of-type {\n",
              "        vertical-align: middle;\n",
              "    }\n",
              "\n",
              "    .dataframe tbody tr th {\n",
              "        vertical-align: top;\n",
              "    }\n",
              "\n",
              "    .dataframe thead th {\n",
              "        text-align: right;\n",
              "    }\n",
              "</style>\n",
              "<table border=\"1\" class=\"dataframe\">\n",
              "  <thead>\n",
              "    <tr style=\"text-align: right;\">\n",
              "      <th></th>\n",
              "      <th>dvcat</th>\n",
              "      <th>weight</th>\n",
              "      <th>dead</th>\n",
              "      <th>airbag</th>\n",
              "      <th>seatbelt</th>\n",
              "      <th>frontal</th>\n",
              "      <th>sex</th>\n",
              "      <th>ageOFocc</th>\n",
              "      <th>yearacc</th>\n",
              "      <th>yearVeh</th>\n",
              "      <th>abcat</th>\n",
              "      <th>occRole</th>\n",
              "      <th>deploy</th>\n",
              "      <th>caseid</th>\n",
              "      <th>injSeverity</th>\n",
              "    </tr>\n",
              "  </thead>\n",
              "  <tbody>\n",
              "    <tr>\n",
              "      <th>0</th>\n",
              "      <td>55+</td>\n",
              "      <td>53.342</td>\n",
              "      <td>dead</td>\n",
              "      <td>airbag</td>\n",
              "      <td>belted</td>\n",
              "      <td>1</td>\n",
              "      <td>f</td>\n",
              "      <td>48</td>\n",
              "      <td>2002</td>\n",
              "      <td>1997</td>\n",
              "      <td>deploy</td>\n",
              "      <td>driver</td>\n",
              "      <td>1</td>\n",
              "      <td>45:150:1</td>\n",
              "      <td>3</td>\n",
              "    </tr>\n",
              "    <tr>\n",
              "      <th>1</th>\n",
              "      <td>25-39</td>\n",
              "      <td>154.960</td>\n",
              "      <td>alive</td>\n",
              "      <td>none</td>\n",
              "      <td>none</td>\n",
              "      <td>1</td>\n",
              "      <td>m</td>\n",
              "      <td>26</td>\n",
              "      <td>2001</td>\n",
              "      <td>1968</td>\n",
              "      <td>unavail</td>\n",
              "      <td>driver</td>\n",
              "      <td>0</td>\n",
              "      <td>76:40:1</td>\n",
              "      <td>3</td>\n",
              "    </tr>\n",
              "    <tr>\n",
              "      <th>2</th>\n",
              "      <td>55+</td>\n",
              "      <td>38.994</td>\n",
              "      <td>alive</td>\n",
              "      <td>none</td>\n",
              "      <td>none</td>\n",
              "      <td>1</td>\n",
              "      <td>f</td>\n",
              "      <td>51</td>\n",
              "      <td>2002</td>\n",
              "      <td>1994</td>\n",
              "      <td>unavail</td>\n",
              "      <td>driver</td>\n",
              "      <td>0</td>\n",
              "      <td>11:184:1</td>\n",
              "      <td>3</td>\n",
              "    </tr>\n",
              "    <tr>\n",
              "      <th>3</th>\n",
              "      <td>25-39</td>\n",
              "      <td>168.568</td>\n",
              "      <td>alive</td>\n",
              "      <td>airbag</td>\n",
              "      <td>belted</td>\n",
              "      <td>1</td>\n",
              "      <td>m</td>\n",
              "      <td>27</td>\n",
              "      <td>1998</td>\n",
              "      <td>1996</td>\n",
              "      <td>deploy</td>\n",
              "      <td>pass</td>\n",
              "      <td>1</td>\n",
              "      <td>9:17:1</td>\n",
              "      <td>3</td>\n",
              "    </tr>\n",
              "    <tr>\n",
              "      <th>4</th>\n",
              "      <td>10-24</td>\n",
              "      <td>27.751</td>\n",
              "      <td>alive</td>\n",
              "      <td>airbag</td>\n",
              "      <td>belted</td>\n",
              "      <td>0</td>\n",
              "      <td>m</td>\n",
              "      <td>26</td>\n",
              "      <td>2002</td>\n",
              "      <td>1997</td>\n",
              "      <td>nodeploy</td>\n",
              "      <td>pass</td>\n",
              "      <td>0</td>\n",
              "      <td>2:2:2</td>\n",
              "      <td>0</td>\n",
              "    </tr>\n",
              "  </tbody>\n",
              "</table>\n",
              "</div>"
            ],
            "text/plain": [
              "   dvcat   weight   dead  airbag  ... occRole  deploy    caseid  injSeverity\n",
              "0    55+   53.342   dead  airbag  ...  driver       1  45:150:1            3\n",
              "1  25-39  154.960  alive    none  ...  driver       0   76:40:1            3\n",
              "2    55+   38.994  alive    none  ...  driver       0  11:184:1            3\n",
              "3  25-39  168.568  alive  airbag  ...    pass       1    9:17:1            3\n",
              "4  10-24   27.751  alive  airbag  ...    pass       0     2:2:2            0\n",
              "\n",
              "[5 rows x 15 columns]"
            ]
          },
          "metadata": {
            "tags": []
          },
          "execution_count": 13
        }
      ]
    },
    {
      "cell_type": "code",
      "metadata": {
        "colab": {
          "base_uri": "https://localhost:8080/"
        },
        "id": "7D873A1o0T_d",
        "outputId": "0aae207f-6b52-4fb8-8d13-c0bb6b44476c"
      },
      "source": [
        "print(\"the % of dead is\",len(data[data[\"dead\"]==\"dead\"])/data.shape[0])"
      ],
      "execution_count": null,
      "outputs": [
        {
          "output_type": "stream",
          "text": [
            "the % of dead is 0.04423569598633646\n"
          ],
          "name": "stdout"
        }
      ]
    },
    {
      "cell_type": "code",
      "metadata": {
        "colab": {
          "base_uri": "https://localhost:8080/",
          "height": 195
        },
        "id": "BAKmUVQkFZgr",
        "outputId": "c2c1bbf6-aaa5-4e37-8a92-cff53f1b4691"
      },
      "source": [
        "data.head()"
      ],
      "execution_count": null,
      "outputs": [
        {
          "output_type": "execute_result",
          "data": {
            "text/html": [
              "<div>\n",
              "<style scoped>\n",
              "    .dataframe tbody tr th:only-of-type {\n",
              "        vertical-align: middle;\n",
              "    }\n",
              "\n",
              "    .dataframe tbody tr th {\n",
              "        vertical-align: top;\n",
              "    }\n",
              "\n",
              "    .dataframe thead th {\n",
              "        text-align: right;\n",
              "    }\n",
              "</style>\n",
              "<table border=\"1\" class=\"dataframe\">\n",
              "  <thead>\n",
              "    <tr style=\"text-align: right;\">\n",
              "      <th></th>\n",
              "      <th>dvcat</th>\n",
              "      <th>weight</th>\n",
              "      <th>dead</th>\n",
              "      <th>airbag</th>\n",
              "      <th>seatbelt</th>\n",
              "      <th>frontal</th>\n",
              "      <th>sex</th>\n",
              "      <th>ageOFocc</th>\n",
              "      <th>yearacc</th>\n",
              "      <th>yearVeh</th>\n",
              "      <th>abcat</th>\n",
              "      <th>occRole</th>\n",
              "      <th>deploy</th>\n",
              "      <th>caseid</th>\n",
              "      <th>injSeverity</th>\n",
              "    </tr>\n",
              "  </thead>\n",
              "  <tbody>\n",
              "    <tr>\n",
              "      <th>0</th>\n",
              "      <td>55+</td>\n",
              "      <td>53.342</td>\n",
              "      <td>dead</td>\n",
              "      <td>airbag</td>\n",
              "      <td>belted</td>\n",
              "      <td>1</td>\n",
              "      <td>f</td>\n",
              "      <td>48</td>\n",
              "      <td>2002</td>\n",
              "      <td>1997</td>\n",
              "      <td>deploy</td>\n",
              "      <td>driver</td>\n",
              "      <td>1</td>\n",
              "      <td>45:150:1</td>\n",
              "      <td>3</td>\n",
              "    </tr>\n",
              "    <tr>\n",
              "      <th>1</th>\n",
              "      <td>25-39</td>\n",
              "      <td>154.960</td>\n",
              "      <td>alive</td>\n",
              "      <td>none</td>\n",
              "      <td>none</td>\n",
              "      <td>1</td>\n",
              "      <td>m</td>\n",
              "      <td>26</td>\n",
              "      <td>2001</td>\n",
              "      <td>1968</td>\n",
              "      <td>unavail</td>\n",
              "      <td>driver</td>\n",
              "      <td>0</td>\n",
              "      <td>76:40:1</td>\n",
              "      <td>3</td>\n",
              "    </tr>\n",
              "    <tr>\n",
              "      <th>2</th>\n",
              "      <td>55+</td>\n",
              "      <td>38.994</td>\n",
              "      <td>alive</td>\n",
              "      <td>none</td>\n",
              "      <td>none</td>\n",
              "      <td>1</td>\n",
              "      <td>f</td>\n",
              "      <td>51</td>\n",
              "      <td>2002</td>\n",
              "      <td>1994</td>\n",
              "      <td>unavail</td>\n",
              "      <td>driver</td>\n",
              "      <td>0</td>\n",
              "      <td>11:184:1</td>\n",
              "      <td>3</td>\n",
              "    </tr>\n",
              "    <tr>\n",
              "      <th>3</th>\n",
              "      <td>25-39</td>\n",
              "      <td>168.568</td>\n",
              "      <td>alive</td>\n",
              "      <td>airbag</td>\n",
              "      <td>belted</td>\n",
              "      <td>1</td>\n",
              "      <td>m</td>\n",
              "      <td>27</td>\n",
              "      <td>1998</td>\n",
              "      <td>1996</td>\n",
              "      <td>deploy</td>\n",
              "      <td>pass</td>\n",
              "      <td>1</td>\n",
              "      <td>9:17:1</td>\n",
              "      <td>3</td>\n",
              "    </tr>\n",
              "    <tr>\n",
              "      <th>4</th>\n",
              "      <td>10-24</td>\n",
              "      <td>27.751</td>\n",
              "      <td>alive</td>\n",
              "      <td>airbag</td>\n",
              "      <td>belted</td>\n",
              "      <td>0</td>\n",
              "      <td>m</td>\n",
              "      <td>26</td>\n",
              "      <td>2002</td>\n",
              "      <td>1997</td>\n",
              "      <td>nodeploy</td>\n",
              "      <td>pass</td>\n",
              "      <td>0</td>\n",
              "      <td>2:2:2</td>\n",
              "      <td>0</td>\n",
              "    </tr>\n",
              "  </tbody>\n",
              "</table>\n",
              "</div>"
            ],
            "text/plain": [
              "   dvcat   weight   dead  airbag  ... occRole  deploy    caseid  injSeverity\n",
              "0    55+   53.342   dead  airbag  ...  driver       1  45:150:1            3\n",
              "1  25-39  154.960  alive    none  ...  driver       0   76:40:1            3\n",
              "2    55+   38.994  alive    none  ...  driver       0  11:184:1            3\n",
              "3  25-39  168.568  alive  airbag  ...    pass       1    9:17:1            3\n",
              "4  10-24   27.751  alive  airbag  ...    pass       0     2:2:2            0\n",
              "\n",
              "[5 rows x 15 columns]"
            ]
          },
          "metadata": {
            "tags": []
          },
          "execution_count": 2
        }
      ]
    },
    {
      "cell_type": "code",
      "metadata": {
        "colab": {
          "base_uri": "https://localhost:8080/",
          "height": 296
        },
        "id": "LvdFHTn6Lc9o",
        "outputId": "61e1621f-a4ef-474c-c828-a9078f88f3d7"
      },
      "source": [
        "sns.set_style('whitegrid')\n",
        "sns.countplot(x='injSeverity',hue='dead',data=data,palette='RdBu_r')"
      ],
      "execution_count": null,
      "outputs": [
        {
          "output_type": "execute_result",
          "data": {
            "text/plain": [
              "<matplotlib.axes._subplots.AxesSubplot at 0x7fab87c8ee80>"
            ]
          },
          "metadata": {
            "tags": []
          },
          "execution_count": 153
        },
        {
          "output_type": "display_data",
          "data": {
            "image/png": "[encoded data removed]",
            "text/plain": [
              "<Figure size 432x288 with 1 Axes>"
            ]
          },
          "metadata": {
            "tags": []
          }
        }
      ]
    },
    {
      "cell_type": "code",
      "metadata": {
        "id": "zNcNeD9U2CY8"
      },
      "source": [
        ""
      ],
      "execution_count": null,
      "outputs": []
    },
    {
      "cell_type": "markdown",
      "metadata": {
        "id": "_-i-N1MbRfEA"
      },
      "source": [
        "we can say that \"abcat\" is not an important feature\n"
      ]
    },
    {
      "cell_type": "code",
      "metadata": {
        "id": "2brXPI9FVlKu"
      },
      "source": [
        "from sklearn.preprocessing import MinMaxScaler\n",
        "\n",
        "def processing(df):\n",
        "  df.loc[df['sex'] == 'm', 'sex'] = 1\n",
        "  df.loc[df['sex'] == 'f', 'sex'] = 0\n",
        "  df.loc[df['dead'] == 'dead', 'dead'] = 1\n",
        "  df.loc[df['dead'] == 'alive', 'dead'] = 0\n",
        "  df.loc[df['dvcat'] == '1-9km/h', 'dvcat'] = 1\n",
        "  df.loc[df['dvcat'] == '10-24', 'dvcat'] = 2\n",
        "  df.loc[df['dvcat'] == '25-39', 'dvcat'] = 3\n",
        "  df.loc[df['dvcat'] == '40-54', 'dvcat'] = 4\n",
        "  df.loc[df['dvcat'] == '55+', 'dvcat'] = 5\n",
        "  df.loc[df['occRole'] == 'pass', 'occRole'] = 0\n",
        "  df.loc[df['occRole'] == 'driver', 'occRole'] = 1\n",
        "  df.loc[df['seatbelt'] == 'none', 'seatbelt'] = 0\n",
        "  df.loc[df['seatbelt'] == 'belted', 'seatbelt'] = 1\n",
        "  df.loc[df['airbag'] == 'none', 'airbag'] = 0\n",
        "  df.loc[df['airbag'] == 'airbag', 'airbag'] = 1\n",
        "  return df\n",
        "def clean(df):\n",
        "  df=df.drop(['abcat', 'caseid','weight'], axis=1)\n",
        "  return df\n",
        "def normalize(df):\n",
        "  scaler = MinMaxScaler() \n",
        "  dfsc=scaler.fit_transform(df)\n",
        "  return dfsc \n",
        "\n"
      ],
      "execution_count": null,
      "outputs": []
    },
    {
      "cell_type": "code",
      "metadata": {
        "colab": {
          "base_uri": "https://localhost:8080/"
        },
        "id": "Y3grFlQQOtnr",
        "outputId": "4ef1d835-3856-4489-8add-8227a6f9565c"
      },
      "source": [
        "df=data.copy()\n",
        "df=clean(df)\n",
        "df=processing(df)\n",
        "y=df['dead']\n",
        "y=y.astype('int') \n",
        "X=df.drop(['dead'], axis=1)\n",
        "X_train,X_test,y_train,y_test = train_test_split(X,y,test_size=0.2, random_state=2)\n",
        "#X_train_normed=normalize(X_train)\n",
        "#X_test_normed=normalize(X_test)\n",
        "#better results if not normalize\n",
        "model=LogisticRegression()\n",
        "model.fit(X_train ,y_train)\n",
        "y_pred=model.predict(X_test)\n",
        "y_predtrain=model.predict(X_train)\n",
        "print('the accuracy for the test data is',accuracy_score(y_test, y_pred))\n",
        "print('the accuracy for the train data is',accuracy_score(y_train, y_predtrain))\n",
        "\n"
      ],
      "execution_count": null,
      "outputs": [
        {
          "output_type": "stream",
          "text": [
            "the accuracy for the test data is 0.9857671505835468\n",
            "the accuracy for the train data is 0.9836322231710789\n"
          ],
          "name": "stdout"
        },
        {
          "output_type": "stream",
          "text": [
            "/usr/local/lib/python3.7/dist-packages/sklearn/linear_model/_logistic.py:940: ConvergenceWarning: lbfgs failed to converge (status=1):\n",
            "STOP: TOTAL NO. of ITERATIONS REACHED LIMIT.\n",
            "\n",
            "Increase the number of iterations (max_iter) or scale the data as shown in:\n",
            "    https://scikit-learn.org/stable/modules/preprocessing.html\n",
            "Please also refer to the documentation for alternative solver options:\n",
            "    https://scikit-learn.org/stable/modules/linear_model.html#logistic-regression\n",
            "  extra_warning_msg=_LOGISTIC_SOLVER_CONVERGENCE_MSG)\n"
          ],
          "name": "stderr"
        }
      ]
    },
    {
      "cell_type": "code",
      "metadata": {
        "id": "Vnkzqw2tr8ae"
      },
      "source": [
        ""
      ],
      "execution_count": null,
      "outputs": []
    },
    {
      "cell_type": "code",
      "metadata": {
        "colab": {
          "base_uri": "https://localhost:8080/"
        },
        "id": "11a6fvg7298U",
        "outputId": "c71eb4cb-f807-4d71-a34c-504ecf9f2ac7"
      },
      "source": [
        "from sklearn import metrics\n",
        "print(metrics.confusion_matrix(y_test, y_pred))\n",
        "m=metrics.confusion_matrix(y_test, y_pred)\n",
        "print('the accuracy for the alive people is: ',m[0][0]/(m[0][0]+m[0][1]))\n",
        "print('the accuracy for the dead people is: ',m[1][1]/(m[1][0]+m[1][1]))\n"
      ],
      "execution_count": null,
      "outputs": [
        {
          "output_type": "stream",
          "text": [
            "[[3356   12]\n",
            " [  38  107]]\n",
            "the accuracy for the alive people is:  0.996437054631829\n",
            "the accuracy for the dead people is:  0.7379310344827587\n"
          ],
          "name": "stdout"
        }
      ]
    },
    {
      "cell_type": "code",
      "metadata": {
        "id": "MU2mF6zvrjfl"
      },
      "source": [
        "X_train_normed=normalize(X_train)\n",
        "X_test_normed=normalize(X_test)"
      ],
      "execution_count": null,
      "outputs": []
    },
    {
      "cell_type": "code",
      "metadata": {
        "colab": {
          "base_uri": "https://localhost:8080/"
        },
        "id": "HNiLL-_tsDqN",
        "outputId": "66819f05-4aeb-4ad5-e6ac-632674c55b33"
      },
      "source": [
        "from sklearn.ensemble import RandomForestClassifier\n",
        "from sklearn.datasets import make_classification\n",
        "from sklearn import metrics\n",
        "model1 = RandomForestClassifier(max_depth=2, random_state=0)\n",
        "model1.fit(X_train_normed, y_train)\n",
        "y_pred=model1.predict(X_test_normed)\n",
        "y_predtrain=model1.predict(X_train_normed)\n",
        "print('the accuracy for the test data is',accuracy_score(y_test, y_pred))\n",
        "print('the accuracy for the train data is',accuracy_score(y_train, y_predtrain))\n",
        "print(metrics.confusion_matrix(y_test, y_pred))"
      ],
      "execution_count": null,
      "outputs": [
        {
          "output_type": "stream",
          "text": [
            "the accuracy for the test data is 0.8479931682322801\n",
            "the accuracy for the train data is 0.9848420153714774\n",
            "[[2957  411]\n",
            " [ 123   22]]\n"
          ],
          "name": "stdout"
        }
      ]
    },
    {
      "cell_type": "markdown",
      "metadata": {
        "id": "40DmQXsizg1k"
      },
      "source": [
        "the logistic regression model is better then the random forrest"
      ]
    }
  ]
}